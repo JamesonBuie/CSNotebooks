{
 "cells": [
  {
   "cell_type": "markdown",
   "id": "73943399",
   "metadata": {},
   "source": [
    "# 6. Working with Dictionaries\n",
    "* A dictionary in Python is a collection of key-value pairs. \n",
    "* Each key is connected to a value, and you can use a key to access the value associated with that key.\n",
    "* A key’s value can be a number, a string, a list, or even another dictionary.\n",
    "\n",
    "* `Key` is the unique identifier to find data and the `value` is the data\n",
    "\n",
    "* A dictionary is a collection which is ordered*, changeable and does not allow duplicates.\n",
    "\n",
    "* Unlike strings, lists, and tuples, **dictionaries are not sequences** - the data are not stored in order. \n",
    "* List can be represented by [ ], Tuple can be represented by ( ), Dictionary  can be represented by { }"
   ]
  },
  {
   "cell_type": "code",
   "execution_count": 1,
   "id": "05999d3a",
   "metadata": {},
   "outputs": [
    {
     "data": {
      "text/plain": [
       "dict"
      ]
     },
     "execution_count": 1,
     "metadata": {},
     "output_type": "execute_result"
    }
   ],
   "source": [
    "data={} #empty dictionary\n",
    "type(data)"
   ]
  },
  {
   "cell_type": "code",
   "execution_count": 2,
   "id": "88e3e9ba",
   "metadata": {},
   "outputs": [
    {
     "data": {
      "text/plain": [
       "dict"
      ]
     },
     "execution_count": 2,
     "metadata": {},
     "output_type": "execute_result"
    }
   ],
   "source": [
    "data1=dict()\n",
    "type(data1)"
   ]
  },
  {
   "cell_type": "code",
   "execution_count": 3,
   "id": "5d25b2cb",
   "metadata": {},
   "outputs": [
    {
     "name": "stdout",
     "output_type": "stream",
     "text": [
      "{'Alabama': 'Montgomery', 'Arizona': 'Pheonix', 'Georgia': 'Atlanta', 'Kentucky': 'Frankfort', 'Ohio': 'Salem'}\n"
     ]
    }
   ],
   "source": [
    "data={'Alabama': 'Montgomery',\n",
    "     'Arizona': 'Pheonix',\n",
    "     'Georgia': 'Atlanta',\n",
    "     'Kentucky': 'Frankfort',\n",
    "     'Ohio': 'Salem'} # key : value\n",
    "print(data)"
   ]
  },
  {
   "cell_type": "markdown",
   "id": "4be8c616",
   "metadata": {},
   "source": [
    "### Access `values` from a dictionary using key\n",
    "* Key and values can be any data types\n",
    "* Accessing key value not present in dictionary generated KeyError"
   ]
  },
  {
   "cell_type": "code",
   "execution_count": 15,
   "id": "aab3f949",
   "metadata": {},
   "outputs": [],
   "source": [
    "data={'Alabama': 'Montgomery',\n",
    "     'Arizona': 'Pheonix',\n",
    "     'Georgia': 'Atlanta',\n",
    "     'Kentucky': 'Frankfort',\n",
    "     'Ohio': 'Salem'} # key : value\n"
   ]
  },
  {
   "cell_type": "code",
   "execution_count": 14,
   "id": "fe9e3886",
   "metadata": {},
   "outputs": [
    {
     "data": {
      "text/plain": [
       "'Frankfort'"
      ]
     },
     "execution_count": 14,
     "metadata": {},
     "output_type": "execute_result"
    }
   ],
   "source": [
    "data['Kentucky']"
   ]
  },
  {
   "cell_type": "code",
   "execution_count": 6,
   "id": "e4eb565d",
   "metadata": {},
   "outputs": [
    {
     "data": {
      "text/plain": [
       "'Montgomery'"
      ]
     },
     "execution_count": 6,
     "metadata": {},
     "output_type": "execute_result"
    }
   ],
   "source": [
    "data['Alabama']"
   ]
  },
  {
   "cell_type": "code",
   "execution_count": 7,
   "id": "c7dae653",
   "metadata": {},
   "outputs": [
    {
     "ename": "KeyError",
     "evalue": "'Louisiana'",
     "output_type": "error",
     "traceback": [
      "\u001b[0;31m---------------------------------------------------------------------------\u001b[0m",
      "\u001b[0;31mKeyError\u001b[0m                                  Traceback (most recent call last)",
      "\u001b[0;32m/var/folders/jb/44g1hfw15g1bf2jty7jl541r0000gn/T/ipykernel_47845/3815722233.py\u001b[0m in \u001b[0;36m<module>\u001b[0;34m\u001b[0m\n\u001b[0;32m----> 1\u001b[0;31m \u001b[0mdata\u001b[0m\u001b[0;34m[\u001b[0m\u001b[0;34m'Louisiana'\u001b[0m\u001b[0;34m]\u001b[0m \u001b[0;31m# if you are accessing a key which is not present, it will return a key error\u001b[0m\u001b[0;34m\u001b[0m\u001b[0;34m\u001b[0m\u001b[0m\n\u001b[0m",
      "\u001b[0;31mKeyError\u001b[0m: 'Louisiana'"
     ]
    }
   ],
   "source": [
    "data['Louisiana'] # if you are accessing a key which is not present, it will return a key error"
   ]
  },
  {
   "cell_type": "markdown",
   "id": "bc6af6fc",
   "metadata": {},
   "source": [
    "### Update elements of a dictionary and add new elements"
   ]
  },
  {
   "cell_type": "code",
   "execution_count": 3,
   "id": "f62f227f",
   "metadata": {},
   "outputs": [],
   "source": [
    "day = {1: 'Monday',\n",
    "       2: 'Tuesday',\n",
    "       4: ['Thursday', 'Friday'],\n",
    "       5: ('Saturday', 'Sunday')}"
   ]
  },
  {
   "cell_type": "code",
   "execution_count": 4,
   "id": "560dd19f",
   "metadata": {},
   "outputs": [
    {
     "data": {
      "text/plain": [
       "'Monday'"
      ]
     },
     "execution_count": 4,
     "metadata": {},
     "output_type": "execute_result"
    }
   ],
   "source": [
    "# Monday\n",
    "day[1]"
   ]
  },
  {
   "cell_type": "code",
   "execution_count": 5,
   "id": "7f07b100",
   "metadata": {},
   "outputs": [
    {
     "data": {
      "text/plain": [
       "'Friday'"
      ]
     },
     "execution_count": 5,
     "metadata": {},
     "output_type": "execute_result"
    }
   ],
   "source": [
    "# Friday\n",
    "day[4][1]  #day[key][index]"
   ]
  },
  {
   "cell_type": "code",
   "execution_count": 6,
   "id": "e30ad316",
   "metadata": {},
   "outputs": [
    {
     "data": {
      "text/plain": [
       "'Saturday'"
      ]
     },
     "execution_count": 6,
     "metadata": {},
     "output_type": "execute_result"
    }
   ],
   "source": [
    "# Saturday\n",
    "day[5][0]"
   ]
  },
  {
   "cell_type": "code",
   "execution_count": 7,
   "id": "071c6f12",
   "metadata": {},
   "outputs": [
    {
     "ename": "TypeError",
     "evalue": "'tuple' object does not support item assignment",
     "output_type": "error",
     "traceback": [
      "\u001b[0;31m---------------------------------------------------------------------------\u001b[0m",
      "\u001b[0;31mTypeError\u001b[0m                                 Traceback (most recent call last)",
      "\u001b[0;32m/var/folders/jb/44g1hfw15g1bf2jty7jl541r0000gn/T/ipykernel_61927/4023789869.py\u001b[0m in \u001b[0;36m<module>\u001b[0;34m\u001b[0m\n\u001b[1;32m      1\u001b[0m \u001b[0;31m# update Sunday to Holiday\u001b[0m\u001b[0;34m\u001b[0m\u001b[0;34m\u001b[0m\u001b[0m\n\u001b[0;32m----> 2\u001b[0;31m \u001b[0mday\u001b[0m\u001b[0;34m[\u001b[0m\u001b[0;36m5\u001b[0m\u001b[0;34m]\u001b[0m\u001b[0;34m[\u001b[0m\u001b[0;36m1\u001b[0m\u001b[0;34m]\u001b[0m\u001b[0;34m=\u001b[0m\u001b[0;34m'Holiday'\u001b[0m  \u001b[0;31m# tuple update not possible\u001b[0m\u001b[0;34m\u001b[0m\u001b[0;34m\u001b[0m\u001b[0m\n\u001b[0m",
      "\u001b[0;31mTypeError\u001b[0m: 'tuple' object does not support item assignment"
     ]
    }
   ],
   "source": [
    "# update Sunday to Holiday\n",
    "day[5][1]='Holiday'  # tuple update not possible"
   ]
  },
  {
   "cell_type": "code",
   "execution_count": 8,
   "id": "10cd3add",
   "metadata": {},
   "outputs": [
    {
     "name": "stdout",
     "output_type": "stream",
     "text": [
      "{1: 'Monday', 2: 'Tuesday', 4: ['Holiday', 'Friday'], 5: ('Saturday', 'Sunday')}\n"
     ]
    }
   ],
   "source": [
    "# update Thursay to Holiday\n",
    "day[4][0]= 'Holiday'\n",
    "print(day)"
   ]
  },
  {
   "cell_type": "code",
   "execution_count": 9,
   "id": "afdf81cb",
   "metadata": {},
   "outputs": [
    {
     "data": {
      "text/plain": [
       "{1: 'Holiday',\n",
       " 2: 'Tuesday',\n",
       " 4: ['Holiday', 'Friday'],\n",
       " 5: ('Saturday', 'Sunday')}"
      ]
     },
     "execution_count": 9,
     "metadata": {},
     "output_type": "execute_result"
    }
   ],
   "source": [
    "# Update Monday to Holiday\n",
    "day [1]= 'Holiday'\n",
    "day"
   ]
  },
  {
   "cell_type": "markdown",
   "id": "f7bb990f",
   "metadata": {},
   "source": [
    "### `get` and `update` methods"
   ]
  },
  {
   "cell_type": "code",
   "execution_count": 16,
   "id": "c99acf1a",
   "metadata": {},
   "outputs": [
    {
     "data": {
      "text/plain": [
       "'Pheonix'"
      ]
     },
     "execution_count": 16,
     "metadata": {},
     "output_type": "execute_result"
    }
   ],
   "source": [
    "data.get('Arizona') # .get Looks for the key to return the value. Will return nothing if not there"
   ]
  },
  {
   "cell_type": "code",
   "execution_count": 17,
   "id": "b25da9e9",
   "metadata": {},
   "outputs": [],
   "source": [
    "data.get('Lousina') # .get does not generate error when key does not exist"
   ]
  },
  {
   "cell_type": "code",
   "execution_count": 18,
   "id": "cba851c9",
   "metadata": {},
   "outputs": [],
   "source": [
    "# update old value to new value and add new key value pair"
   ]
  },
  {
   "cell_type": "code",
   "execution_count": 19,
   "id": "1181b45c",
   "metadata": {},
   "outputs": [
    {
     "name": "stdout",
     "output_type": "stream",
     "text": [
      "{'Alabama': 'Montgomery', 'Arizona': 'Pheonix', 'Georgia': 'Atlanta', 'Kentucky': 'Frankfort', 'Ohio': 'Salem'}\n"
     ]
    },
    {
     "data": {
      "text/plain": [
       "{'Alabama': 'Montgomery',\n",
       " 'Arizona': 'Pheonix',\n",
       " 'Georgia': 'Atlanta',\n",
       " 'Kentucky': 'Louisville',\n",
       " 'Ohio': 'Salem',\n",
       " 'Lousiana': 'Baton Rouge'}"
      ]
     },
     "execution_count": 19,
     "metadata": {},
     "output_type": "execute_result"
    }
   ],
   "source": [
    "print(data)\n",
    "data.update({'Kentucky': 'Louisville', 'Lousiana': 'Baton Rouge'}) # Change value of Kentucky from Frankfort to Louisville\n",
    "data  # Also added Lousiana at the end of the dictionary"
   ]
  },
  {
   "cell_type": "code",
   "execution_count": 20,
   "id": "1ed299d4",
   "metadata": {},
   "outputs": [
    {
     "data": {
      "text/plain": [
       "{'Alabama': 'Montgomery',\n",
       " 'Arizona': 'Pheonix',\n",
       " 'Georgia': 'Atlanta',\n",
       " 'Kentucky': 'Louisville',\n",
       " 'Ohio': 'Salem',\n",
       " 'Lousiana': 'Baton Rouge',\n",
       " 'alabama': 'montogmery'}"
      ]
     },
     "execution_count": 20,
     "metadata": {},
     "output_type": "execute_result"
    }
   ],
   "source": [
    "data.update({'alabama': 'montogmery'}) # Only way to update key\n",
    "data"
   ]
  },
  {
   "cell_type": "markdown",
   "id": "18536626",
   "metadata": {},
   "source": [
    "### Delete dictionary items using `del` and `pop`"
   ]
  },
  {
   "cell_type": "code",
   "execution_count": 21,
   "id": "ebc3b904",
   "metadata": {
    "scrolled": true
   },
   "outputs": [],
   "source": [
    "data\n",
    "del data['Alabama']"
   ]
  },
  {
   "cell_type": "code",
   "execution_count": 22,
   "id": "fc64b2ed",
   "metadata": {},
   "outputs": [
    {
     "data": {
      "text/plain": [
       "{'Arizona': 'Pheonix',\n",
       " 'Georgia': 'Atlanta',\n",
       " 'Kentucky': 'Louisville',\n",
       " 'Ohio': 'Salem',\n",
       " 'Lousiana': 'Baton Rouge',\n",
       " 'alabama': 'montogmery'}"
      ]
     },
     "execution_count": 22,
     "metadata": {},
     "output_type": "execute_result"
    }
   ],
   "source": [
    "data"
   ]
  },
  {
   "cell_type": "code",
   "execution_count": 23,
   "id": "e3993e4c",
   "metadata": {},
   "outputs": [
    {
     "name": "stdout",
     "output_type": "stream",
     "text": [
      "Deleted state is Pheonix\n"
     ]
    },
    {
     "data": {
      "text/plain": [
       "{'Georgia': 'Atlanta',\n",
       " 'Kentucky': 'Louisville',\n",
       " 'Ohio': 'Salem',\n",
       " 'Lousiana': 'Baton Rouge',\n",
       " 'alabama': 'montogmery'}"
      ]
     },
     "execution_count": 23,
     "metadata": {},
     "output_type": "execute_result"
    }
   ],
   "source": [
    "deleted_statement=data.pop('Arizona')\n",
    "print(\"Deleted state is\", deleted_statement)\n",
    "data"
   ]
  },
  {
   "cell_type": "code",
   "execution_count": 24,
   "id": "fe852229",
   "metadata": {},
   "outputs": [
    {
     "name": "stdout",
     "output_type": "stream",
     "text": [
      "Louisville\n",
      "{'Georgia': 'Atlanta', 'Ohio': 'Salem', 'Lousiana': 'Baton Rouge', 'alabama': 'montogmery'}\n"
     ]
    }
   ],
   "source": [
    "# Delete Montgomery\n",
    "data\n",
    "deleted_capitol=data.pop('Kentucky')\n",
    "print(deleted_capitol)\n",
    "print(data)"
   ]
  },
  {
   "cell_type": "code",
   "execution_count": 25,
   "id": "2d21363c",
   "metadata": {},
   "outputs": [
    {
     "data": {
      "text/plain": [
       "{'Georgia': 'Atlanta',\n",
       " 'Ohio': 'Salem',\n",
       " 'Lousiana': 'Baton Rouge',\n",
       " 'alabama': 'montogmery'}"
      ]
     },
     "execution_count": 25,
     "metadata": {},
     "output_type": "execute_result"
    }
   ],
   "source": [
    "data"
   ]
  },
  {
   "cell_type": "code",
   "execution_count": 26,
   "id": "be205f9d",
   "metadata": {},
   "outputs": [],
   "source": [
    "del data\n"
   ]
  },
  {
   "cell_type": "markdown",
   "id": "610aae76",
   "metadata": {},
   "source": [
    "### Number of elements in the dictionary and extracting `keys()`, `values()`, `items()`"
   ]
  },
  {
   "cell_type": "code",
   "execution_count": 27,
   "id": "f13bd3ba",
   "metadata": {},
   "outputs": [],
   "source": [
    "data={'Alabama': 'Montgomery',\n",
    "     'Arizona': 'Pheonix',\n",
    "     'Georgia': 'Atlanta',\n",
    "     'Kentucky': 'Frankfort',\n",
    "     'Ohio': 'Salem'}"
   ]
  },
  {
   "cell_type": "code",
   "execution_count": 28,
   "id": "1d31365f",
   "metadata": {},
   "outputs": [
    {
     "data": {
      "text/plain": [
       "5"
      ]
     },
     "execution_count": 28,
     "metadata": {},
     "output_type": "execute_result"
    }
   ],
   "source": [
    "# number of element/values in a dictionary\n",
    "len(data)"
   ]
  },
  {
   "cell_type": "code",
   "execution_count": 29,
   "id": "0db183c4",
   "metadata": {},
   "outputs": [
    {
     "name": "stdout",
     "output_type": "stream",
     "text": [
      "dict_keys(['Alabama', 'Arizona', 'Georgia', 'Kentucky', 'Ohio'])\n"
     ]
    }
   ],
   "source": [
    "# Extract keys\n",
    "print(data.keys())"
   ]
  },
  {
   "cell_type": "code",
   "execution_count": 30,
   "id": "a1c19204",
   "metadata": {},
   "outputs": [
    {
     "name": "stdout",
     "output_type": "stream",
     "text": [
      "dict_values(['Montgomery', 'Pheonix', 'Atlanta', 'Frankfort', 'Salem'])\n"
     ]
    }
   ],
   "source": [
    "# Extract values\n",
    "print(data.values())"
   ]
  },
  {
   "cell_type": "markdown",
   "id": "ab9e78f2",
   "metadata": {},
   "source": [
    "### Loop through a dictionary"
   ]
  },
  {
   "cell_type": "code",
   "execution_count": 31,
   "id": "941bf04e",
   "metadata": {},
   "outputs": [],
   "source": [
    "data={'Alabama': 'Montgomery',\n",
    "     'Arizona': 'Pheonix',\n",
    "     'Georgia': 'Atlanta',\n",
    "     'Kentucky': 'Frankfort',\n",
    "     'Ohio': 'Salem'}"
   ]
  },
  {
   "cell_type": "code",
   "execution_count": 32,
   "id": "fe239e39",
   "metadata": {},
   "outputs": [
    {
     "name": "stdout",
     "output_type": "stream",
     "text": [
      "Alabama\n",
      "<class 'str'>\n",
      "Arizona\n",
      "<class 'str'>\n",
      "Georgia\n",
      "<class 'str'>\n",
      "Kentucky\n",
      "<class 'str'>\n",
      "Ohio\n",
      "<class 'str'>\n"
     ]
    }
   ],
   "source": [
    "# Loop through the dictionary keys\n",
    "for i in data.keys():\n",
    "    print(i)\n",
    "    print(type(i))"
   ]
  },
  {
   "cell_type": "code",
   "execution_count": 33,
   "id": "c0746d46",
   "metadata": {},
   "outputs": [
    {
     "name": "stdout",
     "output_type": "stream",
     "text": [
      "The capitol is: Montgomery\n",
      "The capitol is: Pheonix\n",
      "The capitol is: Atlanta\n",
      "The capitol is: Frankfort\n",
      "The capitol is: Salem\n"
     ]
    }
   ],
   "source": [
    "# Looping through the values\n",
    "for j in data.values():\n",
    "    print(\"The capitol is:\",j)"
   ]
  },
  {
   "cell_type": "code",
   "execution_count": 34,
   "id": "e07995b1",
   "metadata": {},
   "outputs": [
    {
     "name": "stdout",
     "output_type": "stream",
     "text": [
      "('Alabama', 'Montgomery')\n",
      "<class 'tuple'>\n",
      "('Arizona', 'Pheonix')\n",
      "<class 'tuple'>\n",
      "('Georgia', 'Atlanta')\n",
      "<class 'tuple'>\n",
      "('Kentucky', 'Frankfort')\n",
      "<class 'tuple'>\n",
      "('Ohio', 'Salem')\n",
      "<class 'tuple'>\n"
     ]
    }
   ],
   "source": [
    "# Looping through the dictionary item\n",
    "for k in data.items():\n",
    "    print(k)\n",
    "    print(type(k))"
   ]
  },
  {
   "cell_type": "code",
   "execution_count": 35,
   "id": "b111fbae",
   "metadata": {},
   "outputs": [
    {
     "name": "stdout",
     "output_type": "stream",
     "text": [
      "State: Alabama Capitol: Montgomery\n",
      "State: Arizona Capitol: Pheonix\n",
      "State: Georgia Capitol: Atlanta\n",
      "State: Kentucky Capitol: Frankfort\n",
      "State: Ohio Capitol: Salem\n"
     ]
    }
   ],
   "source": [
    "# tuple unpacking\n",
    "for i, j in data.items():\n",
    "    print('State:', i + ' Capitol:',j)\n",
    "    \n",
    "    "
   ]
  },
  {
   "cell_type": "code",
   "execution_count": null,
   "id": "ecf32767",
   "metadata": {},
   "outputs": [],
   "source": []
  },
  {
   "cell_type": "markdown",
   "id": "82ec7aff",
   "metadata": {},
   "source": [
    "### Convert dictionary to lists using `list()` function"
   ]
  },
  {
   "cell_type": "code",
   "execution_count": 36,
   "id": "afcede6e",
   "metadata": {},
   "outputs": [
    {
     "name": "stdout",
     "output_type": "stream",
     "text": [
      "{'Alabama': 'Montgomery', 'Arizona': 'Pheonix', 'Georgia': 'Atlanta', 'Kentucky': 'Frankfort', 'Ohio': 'Salem'}\n"
     ]
    }
   ],
   "source": [
    "print(data)"
   ]
  },
  {
   "cell_type": "code",
   "execution_count": 37,
   "id": "b85f9771",
   "metadata": {},
   "outputs": [
    {
     "data": {
      "text/plain": [
       "['Montgomery', 'Pheonix', 'Atlanta', 'Frankfort', 'Salem']"
      ]
     },
     "execution_count": 37,
     "metadata": {},
     "output_type": "execute_result"
    }
   ],
   "source": [
    "list(data.values())"
   ]
  },
  {
   "cell_type": "code",
   "execution_count": 38,
   "id": "1513a1e3",
   "metadata": {},
   "outputs": [
    {
     "data": {
      "text/plain": [
       "('Alabama', 'Arizona', 'Georgia', 'Kentucky', 'Ohio')"
      ]
     },
     "execution_count": 38,
     "metadata": {},
     "output_type": "execute_result"
    }
   ],
   "source": [
    "tuple(data.keys())"
   ]
  },
  {
   "cell_type": "code",
   "execution_count": null,
   "id": "59ec3714",
   "metadata": {},
   "outputs": [],
   "source": []
  },
  {
   "cell_type": "markdown",
   "id": "d13131c6",
   "metadata": {},
   "source": [
    "### A List in a Dictionary"
   ]
  },
  {
   "cell_type": "code",
   "execution_count": 39,
   "id": "cd81cd95",
   "metadata": {},
   "outputs": [],
   "source": [
    "favoriteLanguage={\n",
    "    'Jen':['Python','Ruby'],\n",
    "    'sarah':['C'],\n",
    "    'edward':['Ruby','Java'],\n",
    "    'Phil':['Python','Haskell']\n",
    "}"
   ]
  },
  {
   "cell_type": "code",
   "execution_count": 40,
   "id": "1d594da7",
   "metadata": {},
   "outputs": [
    {
     "name": "stdout",
     "output_type": "stream",
     "text": [
      "\n",
      "Jen's favorite languages are: \n",
      "\t\t\tPython\n",
      "\t\t\tRuby\n",
      "\n",
      "Sarah's favorite languages are: \n",
      "\t\t\tC\n",
      "\n",
      "Edward's favorite languages are: \n",
      "\t\t\tRuby\n",
      "\t\t\tJava\n",
      "\n",
      "Phil's favorite languages are: \n",
      "\t\t\tPython\n",
      "\t\t\tHaskell\n"
     ]
    }
   ],
   "source": [
    "for name, languages in favoriteLanguage.items():\n",
    "    print(\"\\n\"+name.title()+\"\\'s favorite languages are: \")\n",
    "    for i in languages:\n",
    "        print(\"\\t\\t\\t\"+i.title())"
   ]
  },
  {
   "cell_type": "code",
   "execution_count": null,
   "id": "e9a96ec4",
   "metadata": {},
   "outputs": [],
   "source": []
  },
  {
   "cell_type": "code",
   "execution_count": null,
   "id": "9796242d",
   "metadata": {},
   "outputs": [],
   "source": []
  },
  {
   "cell_type": "markdown",
   "id": "7543bcaf",
   "metadata": {},
   "source": [
    "###  A Dictionary in a Dictionary"
   ]
  },
  {
   "cell_type": "code",
   "execution_count": 41,
   "id": "5716262d",
   "metadata": {},
   "outputs": [],
   "source": [
    "user={\n",
    "    'einstein':{\n",
    "        'first':'albert',\n",
    "        'last':'einstein',\n",
    "        'location':'princeton'\n",
    "    },\n",
    "    'madame curie':{\n",
    "        'first':'marie',\n",
    "        'last':'curie',\n",
    "        'location':'paris'\n",
    "    }\n",
    "}"
   ]
  },
  {
   "cell_type": "code",
   "execution_count": 42,
   "id": "7aaca1c4",
   "metadata": {},
   "outputs": [
    {
     "data": {
      "text/plain": [
       "{'einstein': {'first': 'albert', 'last': 'einstein', 'location': 'princeton'},\n",
       " 'madame curie': {'first': 'marie', 'last': 'curie', 'location': 'paris'}}"
      ]
     },
     "execution_count": 42,
     "metadata": {},
     "output_type": "execute_result"
    }
   ],
   "source": [
    "user"
   ]
  },
  {
   "cell_type": "code",
   "execution_count": 43,
   "id": "6ff21654",
   "metadata": {},
   "outputs": [
    {
     "name": "stdout",
     "output_type": "stream",
     "text": [
      "\n",
      "User Name:  Einstein\n",
      "The full name is: Albert Einstein\n",
      "Their location is:  Princeton\n",
      "\n",
      "User Name:  Madame Curie\n",
      "The full name is: Marie Curie\n",
      "Their location is:  Paris\n"
     ]
    }
   ],
   "source": [
    "for username, userInfo in user.items():\n",
    "    print(\"\\nUser Name: \",username.title())\n",
    "    fullName=userInfo['first']+\" \"+userInfo['last']\n",
    "    location=userInfo['location']\n",
    "    print('The full name is: '+fullName.title())\n",
    "    print('Their location is: ',location.title())"
   ]
  },
  {
   "cell_type": "code",
   "execution_count": null,
   "id": "3aab1251",
   "metadata": {},
   "outputs": [],
   "source": []
  },
  {
   "cell_type": "code",
   "execution_count": null,
   "id": "5aece160",
   "metadata": {},
   "outputs": [],
   "source": []
  },
  {
   "cell_type": "code",
   "execution_count": null,
   "id": "2aa538e2",
   "metadata": {},
   "outputs": [],
   "source": []
  },
  {
   "cell_type": "code",
   "execution_count": null,
   "id": "8eef2444",
   "metadata": {},
   "outputs": [],
   "source": []
  }
 ],
 "metadata": {
  "kernelspec": {
   "display_name": "Python 3 (ipykernel)",
   "language": "python",
   "name": "python3"
  },
  "language_info": {
   "codemirror_mode": {
    "name": "ipython",
    "version": 3
   },
   "file_extension": ".py",
   "mimetype": "text/x-python",
   "name": "python",
   "nbconvert_exporter": "python",
   "pygments_lexer": "ipython3",
   "version": "3.9.13"
  }
 },
 "nbformat": 4,
 "nbformat_minor": 5
}
