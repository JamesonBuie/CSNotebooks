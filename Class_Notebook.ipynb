{
 "cells": [
  {
   "cell_type": "markdown",
   "id": "4ef4485e",
   "metadata": {},
   "source": [
    "# Ch9 Classes"
   ]
  },
  {
   "cell_type": "markdown",
   "id": "7b465366",
   "metadata": {},
   "source": [
    "### Python is an object oriented programming language.\n",
    "- Almost everything in Python is an object, with its properties and methods (Functions).\n",
    "- A Class is like an object constructor, or a \"blueprint\" for creating objects."
   ]
  },
  {
   "cell_type": "code",
   "execution_count": 22,
   "id": "741b88de",
   "metadata": {},
   "outputs": [
    {
     "name": "stdout",
     "output_type": "stream",
     "text": [
      "The email of first employee 1: angie.hill@accounting.com\n",
      "The first name of employee 1: Angie\n",
      "The last name of employee 1: Hill\n",
      "The age of employee 1: 25\n",
      "--New Employee--\n",
      "The email of employee 2: peter.griffin@toy making.com\n",
      "The first name of employee 2: Peter\n",
      "The last name of employee 2: Griffin\n",
      "The age employee 2: 35\n",
      "\n",
      "\n",
      "The full name of the employee: Angie Hill\n"
     ]
    }
   ],
   "source": [
    "class Employee(): #name of the class\n",
    "#init is the constructor of the class. It is mandatory for class construction\n",
    "#self is used to represent the instance of the class\n",
    "    \n",
    "    def __init__(self,first,last,age,dept): #method/function\n",
    "        self.first=first.title()\n",
    "        self.last=last.title()\n",
    "        self.age=age\n",
    "        self.dept=dept.title()\n",
    "        self.email=first+\".\"+last+f\"@{dept}.com\"\n",
    "# Creating a method called fullName. It needs only the instance\n",
    "    def fullName(self):\n",
    "        print(f\"The full name of the employee: {self.first} {self.last}\")\n",
    "#init will run automatically when you call the class\n",
    "emp_1=Employee(\"angie\",\"hill\",25,\"accounting\")\n",
    "emp_2=Employee(\"peter\",\"griffin\",35,\"toy making\")\n",
    "\n",
    "print(f\"The email of first employee 1: {emp_1.email}\")\n",
    "print(f\"The first name of employee 1: {emp_1.first}\")\n",
    "print(f\"The last name of employee 1: {emp_1.last}\")\n",
    "print(f\"The age of employee 1: {emp_1.age}\")\n",
    "print(\"--New Employee--\")\n",
    "print(f\"The email of employee 2: {emp_2.email}\")\n",
    "print(f\"The first name of employee 2: {emp_2.first}\")\n",
    "print(f\"The last name of employee 2: {emp_2.last}\")\n",
    "print(f\"The age employee 2: {emp_2.age}\")\n",
    "print(\"\\n\")\n",
    "#print(f\"Full name of employee1: {emp_1.first} {emp_1.last}\")\n",
    "#print(f\"Full name of employee2: {emp_2.first} {emp_2.last}\")\n",
    "emp_1.fullName()"
   ]
  },
  {
   "cell_type": "code",
   "execution_count": null,
   "id": "a9136cf8",
   "metadata": {},
   "outputs": [],
   "source": []
  },
  {
   "cell_type": "markdown",
   "id": "5d60f7c0",
   "metadata": {},
   "source": [
    "### Creating the Dog Class\n",
    "Each instance created from the Dog class will store a name and an age, and we’ll give each dog the ability to sit() and roll_over():"
   ]
  },
  {
   "cell_type": "code",
   "execution_count": 27,
   "id": "6e84155c",
   "metadata": {},
   "outputs": [
    {
     "name": "stdout",
     "output_type": "stream",
     "text": [
      "Shelly\n",
      "4\n",
      "Shelly is now sitting\n",
      "Shelly has rolled over\n",
      "Shelly is shaking your hand\n",
      "Brian\n",
      "12\n",
      "Brian is now sitting\n",
      "Brian has rolled over\n",
      "Brian is a critically acclaimed author and has written his own tv show!\n"
     ]
    }
   ],
   "source": [
    "class Dog():\n",
    "    def __init__(self,name,age):\n",
    "        self.name=name.title()\n",
    "        self.age=age\n",
    "        \n",
    "    def sit(self):\n",
    "        print(f\"{self.name} is now sitting\")\n",
    "    \n",
    "    def roll_over(self):\n",
    "        print(f\"{self.name} has rolled over\")\n",
    "        \n",
    "    def shake(self):\n",
    "        print(f\"{self.name} is shaking your hand\")\n",
    "    \n",
    "    def author(self):\n",
    "        print(f\"{self.name} is a critically acclaimed author and has written his own tv show!\")\n",
    "dog1=Dog(\"Shelly\",4)\n",
    "print(dog1.name)\n",
    "print(dog1.age)\n",
    "dog1.sit()\n",
    "dog1.roll_over()\n",
    "dog1.shake()\n",
    "dog2=Dog(\"Brian\",12)\n",
    "print(dog2.name)\n",
    "print(dog2.age)\n",
    "dog2.sit()\n",
    "dog2.roll_over()\n",
    "dog2.author()\n"
   ]
  },
  {
   "cell_type": "code",
   "execution_count": null,
   "id": "3c70e9c0",
   "metadata": {},
   "outputs": [],
   "source": []
  },
  {
   "cell_type": "markdown",
   "id": "8bbcc5c0",
   "metadata": {},
   "source": [
    "#### Note:\n",
    "- By convention, capitalized names refer to classes in Python. \n",
    "- The parentheses in the class definition are empty because we’re creating this class from scratch.\n",
    "- All classes have a function called __init__(), which is always executed when the class is being initiated.\n",
    "- Use the __init__() function to assign values to object properties, or other operations that are necessary to do when the object is being created\n",
    "- Any variable prefixed with `self` is available to every method in the class, and we’ll also be able to access these variables through any instance created from the class.\n",
    "- The Dog class has two other methods defined: sit() and roll_over().Because these methods don’t need additional information like a name or age, we just define them to have one parameter, self."
   ]
  },
  {
   "cell_type": "markdown",
   "id": "402f0696",
   "metadata": {},
   "source": [
    "### Restaurant: Make a class called Restaurant. The __init__() method for Restaurant should store two attributes: a restaurant_name and a cuisine_type.\n",
    "- Make a method called `describe_restaurant()` that prints name of teh restrurent and the cuisine type\n",
    "- and a method called open_restaurant() that prints a message indicating that the restaurant is open.\n",
    "- Make an instance called restaurant from your class. Print the two attributes individually, and then call both methods.\n"
   ]
  },
  {
   "cell_type": "code",
   "execution_count": 7,
   "id": "c4316b2d",
   "metadata": {},
   "outputs": [
    {
     "name": "stdout",
     "output_type": "stream",
     "text": [
      "Family Style\n",
      "American Food\n",
      "The name of the restaurant is Family Style and they serve great American Food.\n",
      "Family Style is now open\n"
     ]
    }
   ],
   "source": [
    "class Restaurant():\n",
    "    \n",
    "    def __init__(self,name,cuisine):\n",
    "        self.name=name.title()\n",
    "        self.cuisine=cuisine.title()\n",
    "        \n",
    "    def describe_restaurant(self):\n",
    "        print(f\"The name of the restaurant is {self.name} and they serve great {self.cuisine}.\")\n",
    "          \n",
    "    def open_restaurant(self):\n",
    "        print(f\"{self.name} is now open\")\n",
    "        \n",
    "rest1=Restaurant(\"Family Style\",\"American food\")\n",
    "print(rest1.name)\n",
    "print(rest1.cuisine)\n",
    "rest1.describe_restaurant()\n",
    "rest1.open_restaurant()"
   ]
  },
  {
   "cell_type": "code",
   "execution_count": null,
   "id": "f9be3f46",
   "metadata": {},
   "outputs": [],
   "source": []
  },
  {
   "cell_type": "markdown",
   "id": "8b4a4fca",
   "metadata": {},
   "source": [
    "### - Create three different instances from the class, and call describe_restaurant() for each instance."
   ]
  },
  {
   "cell_type": "code",
   "execution_count": 18,
   "id": "b3845fe0",
   "metadata": {},
   "outputs": [],
   "source": [
    "rest2=Restaurant(\"Arbys\",\"roast beef\")\n",
    "rest3=Restaurant(\"Joellas\",\"fried chicken\")\n",
    "rest4=Restaurant(\"flappers\",\"sausage biscuits\")"
   ]
  },
  {
   "cell_type": "code",
   "execution_count": 19,
   "id": "e6aa8a33",
   "metadata": {},
   "outputs": [
    {
     "name": "stdout",
     "output_type": "stream",
     "text": [
      "Arbys\n",
      "The name of the restaurant is Arbys and they serve great Roast Beef.\n"
     ]
    }
   ],
   "source": [
    "print(rest2.name)\n",
    "rest2.describe_restaurant()"
   ]
  },
  {
   "cell_type": "code",
   "execution_count": 20,
   "id": "6b24e6f1",
   "metadata": {},
   "outputs": [
    {
     "name": "stdout",
     "output_type": "stream",
     "text": [
      "Joellas\n",
      "The name of the restaurant is Joellas and they serve great Fried Chicken.\n"
     ]
    }
   ],
   "source": [
    "print(rest3.name)\n",
    "rest3.describe_restaurant()"
   ]
  },
  {
   "cell_type": "code",
   "execution_count": 21,
   "id": "cd02c797",
   "metadata": {},
   "outputs": [
    {
     "name": "stdout",
     "output_type": "stream",
     "text": [
      "Flappers\n",
      "The name of the restaurant is Flappers and they serve great Sausage Biscuits.\n"
     ]
    }
   ],
   "source": [
    "print(rest4.name)\n",
    "rest4.describe_restaurant()"
   ]
  },
  {
   "cell_type": "markdown",
   "id": "8f4032c6",
   "metadata": {},
   "source": [
    "### Users: Make a class called User. Create attributes called first_name and last_name, username, location \n",
    "- Make a method called describe_user() that prints a summary of the user’s information. \n",
    "- Make another method called greet_user() that prints a personalized greeting to the user.\n",
    "- Create several instances representing different users, and call both methods for each user."
   ]
  },
  {
   "cell_type": "code",
   "execution_count": 37,
   "id": "dda94ce2",
   "metadata": {},
   "outputs": [
    {
     "name": "stdout",
     "output_type": "stream",
     "text": [
      "The user is Peter Griffin\n",
      "Username: pgriffin\n",
      "Location: Quahog\n",
      "Hello Peter. Welcome to Fortnite!\n"
     ]
    }
   ],
   "source": [
    "class User():\n",
    "    \n",
    "    def __init__(self,first_name,last_name,username,location):\n",
    "        self.first_name=first_name.title()\n",
    "        self.last_name=last_name.title()\n",
    "        self.username=username.lower()\n",
    "        self.location=location.title()\n",
    "        \n",
    "    def DescribeUser(self):\n",
    "        print(f\"The user is {self.first_name} {self.last_name}\")\n",
    "        print(f\"Username: {self.username}\")\n",
    "        print(f\"Location: {self.location}\")\n",
    "        \n",
    "    def GreetUser(self):\n",
    "        print(f\"Hello {self.first_name}. Welcome to Fortnite!\")\n",
    "        \n",
    "        \n",
    "user1=User(\"Peter\",\"griffin\",\"pgriffin\",\"quahog\")\n",
    "user1.DescribeUser()\n",
    "user1.GreetUser()"
   ]
  },
  {
   "cell_type": "code",
   "execution_count": null,
   "id": "8864d617",
   "metadata": {},
   "outputs": [],
   "source": []
  },
  {
   "cell_type": "markdown",
   "id": "8b5bfff2",
   "metadata": {},
   "source": [
    "## Setting a Default Value for an Attribute\n",
    "* Create a class called 'car' which contains make, model, and year.\n",
    "* Create a method called 'get_descriptive_name' which returns the car information\n",
    "* Create a method called 'read_odometer' which will display the odometer reading of the car\n",
    "* Create two car attributes to test the code\n"
   ]
  },
  {
   "cell_type": "code",
   "execution_count": 11,
   "id": "bbdc7a10",
   "metadata": {},
   "outputs": [
    {
     "name": "stdout",
     "output_type": "stream",
     "text": [
      "2015 Nissan Altima\n",
      "2020 Mclaren Senna\n",
      "The car has 0 miles on it\n",
      "The car has 0 miles on it\n"
     ]
    }
   ],
   "source": [
    "class Car():\n",
    "    def __init__(self,make,model,year):\n",
    "        self.make=make.title()\n",
    "        self.model=model.title()\n",
    "        self.year=year\n",
    "        self.odometer_reading=0\n",
    "        \n",
    "    def get_descriptive(self):\n",
    "        descript=str(self.year)+\" \"+self.make+\" \"+self.model\n",
    "        return descript\n",
    "        \n",
    "    def read_odometer(self):\n",
    "        print(f\"The car has {self.odometer_reading} miles on it\")\n",
    "        \n",
    "    def update_odometer(self,mileage):\n",
    "        self.odometer_reading=mileage\n",
    "        print(f\"The current reading on the odometer is {self.odometer_reading}\")\n",
    "    \n",
    "    def incremental_odometer(self,miles):\n",
    "        self.odometer_reading+= miles\n",
    "        print(f\"The updated odometer reading is {self.odometer_reading}\")\n",
    "car1=Car(\"Nissan\",\"Altima\",2015)\n",
    "print(car1.get_descriptive())   # Not printing will cause this attirbute to be overridden\n",
    "car2=Car(\"Mclaren\",\"Senna\",2020)\n",
    "print(car2.get_descriptive()) #Printing will allow you to run more than one attribute at a time. \n",
    "(car1.read_odometer()) # Do not need to print this because already printed it in the read_odometer function\n",
    "(car2.read_odometer())"
   ]
  },
  {
   "cell_type": "code",
   "execution_count": null,
   "id": "35859896",
   "metadata": {},
   "outputs": [],
   "source": []
  },
  {
   "cell_type": "code",
   "execution_count": null,
   "id": "9ea6316b",
   "metadata": {},
   "outputs": [],
   "source": []
  },
  {
   "cell_type": "markdown",
   "id": "3f840f3e",
   "metadata": {},
   "source": [
    "#### Modifying an Attribute’s Value Directly"
   ]
  },
  {
   "cell_type": "code",
   "execution_count": 13,
   "id": "6f8fa540",
   "metadata": {},
   "outputs": [
    {
     "name": "stdout",
     "output_type": "stream",
     "text": [
      "The car has 23 miles on it\n",
      "The current reading on the odometer is 23\n",
      "The updated odometer reading is 1023\n"
     ]
    }
   ],
   "source": [
    "car1.odometer_reading=23\n",
    "car1.read_odometer()\n",
    "car1.update_odometer(23)\n",
    "car1.incremental_odometer(1000)"
   ]
  },
  {
   "cell_type": "code",
   "execution_count": null,
   "id": "2f382418",
   "metadata": {},
   "outputs": [],
   "source": []
  },
  {
   "cell_type": "markdown",
   "id": "27f8f244",
   "metadata": {},
   "source": [
    "### Modifying an Attribute’s Value Through a Method"
   ]
  },
  {
   "cell_type": "code",
   "execution_count": null,
   "id": "9b3ae956",
   "metadata": {},
   "outputs": [],
   "source": []
  },
  {
   "cell_type": "code",
   "execution_count": null,
   "id": "3c3c57c2",
   "metadata": {},
   "outputs": [],
   "source": []
  },
  {
   "cell_type": "markdown",
   "id": "fd560131",
   "metadata": {},
   "source": [
    "### Incrementing an Attribute’s Value Through a Method"
   ]
  },
  {
   "cell_type": "code",
   "execution_count": null,
   "id": "8d76b884",
   "metadata": {},
   "outputs": [],
   "source": []
  },
  {
   "cell_type": "code",
   "execution_count": null,
   "id": "1500c7e7",
   "metadata": {},
   "outputs": [],
   "source": []
  },
  {
   "cell_type": "markdown",
   "id": "b96f0d18",
   "metadata": {},
   "source": [
    "# Inheritance\n",
    "- You don’t always have to start from scratch when writing a class. If the class you’re writing is a specialized version of another class you wrote, you can use inheritance. \n",
    "- When one class inherits from another, it automatically takes on all the attributes and methods of the first class. The original class is called the `parent class`, and the new class is the `child class`. \n",
    "- The child class inherits every attribute and method from its parent class but is also free to define new attributes and methods of its own."
   ]
  },
  {
   "cell_type": "code",
   "execution_count": null,
   "id": "5b7c3efd",
   "metadata": {},
   "outputs": [],
   "source": []
  },
  {
   "cell_type": "code",
   "execution_count": null,
   "id": "07cbb387",
   "metadata": {},
   "outputs": [],
   "source": []
  },
  {
   "cell_type": "code",
   "execution_count": null,
   "id": "34de9649",
   "metadata": {},
   "outputs": [],
   "source": []
  },
  {
   "cell_type": "markdown",
   "id": "5b594c20",
   "metadata": {},
   "source": [
    "### Practice: Create a class named Person, with firstname and lastname properties, and a printname method:"
   ]
  },
  {
   "cell_type": "code",
   "execution_count": 37,
   "id": "681edaaf",
   "metadata": {},
   "outputs": [],
   "source": [
    "class Person():\n",
    "    def __init__(self,fname,lname):\n",
    "        self.fname=fname.title()\n",
    "        self.lname=lname.title()\n",
    "        \n",
    "    def print_name(self):\n",
    "        print(f\"Full name: {self.fname} {self.lname}\")\n",
    "        "
   ]
  },
  {
   "cell_type": "code",
   "execution_count": 38,
   "id": "9d3a0e56",
   "metadata": {},
   "outputs": [
    {
     "name": "stdout",
     "output_type": "stream",
     "text": [
      "Full name: Butters Stoch\n",
      "Full name: Randy Marsh\n"
     ]
    }
   ],
   "source": [
    "person_1=Person(\"Butters\",\"Stoch\")\n",
    "person_1.print_name()\n",
    "person_2=Person(\"Randy\",\"Marsh\")\n",
    "person_2.print_name()"
   ]
  },
  {
   "cell_type": "code",
   "execution_count": null,
   "id": "b75d7a0a",
   "metadata": {},
   "outputs": [],
   "source": []
  },
  {
   "cell_type": "markdown",
   "id": "a8023470",
   "metadata": {},
   "source": [
    "### Create child classes called Student using Inheritance contains the first and last name and the graduation year \n",
    "- Add a method called `welcome` that prints the student graduation year\n",
    "- Test the student method for two students"
   ]
  },
  {
   "cell_type": "code",
   "execution_count": 49,
   "id": "539df4c0",
   "metadata": {},
   "outputs": [],
   "source": [
    "class Student(Person):\n",
    "    def __init__(self,fname,lname,year):\n",
    "        super().__init__(fname,lname)\n",
    "        self.year=year\n",
    "        \n",
    "    def welcome(self):\n",
    "        print(f\"Welcome {self.fname} {self.lname} to the class of {self.year}.\")\n",
    "        "
   ]
  },
  {
   "cell_type": "code",
   "execution_count": 51,
   "id": "8a1571d5",
   "metadata": {},
   "outputs": [
    {
     "name": "stdout",
     "output_type": "stream",
     "text": [
      "Full name: Butters Stotch\n",
      "Welcome Butters Stotch to the class of 2032.\n"
     ]
    }
   ],
   "source": [
    "butters=Student(\"Butters\",\"Stotch\",2032)\n",
    "butters.print_name()\n",
    "butters.welcome()"
   ]
  },
  {
   "cell_type": "code",
   "execution_count": null,
   "id": "5816f6a4",
   "metadata": {},
   "outputs": [],
   "source": []
  },
  {
   "cell_type": "markdown",
   "id": "3bdcfd1c",
   "metadata": {},
   "source": [
    "## Create a simple calculator using classes"
   ]
  },
  {
   "cell_type": "code",
   "execution_count": 1,
   "id": "6ab4b4b1",
   "metadata": {},
   "outputs": [
    {
     "name": "stdout",
     "output_type": "stream",
     "text": [
      "Enter first number: 8\n",
      "Enter second number: 67\n",
      "\n",
      "0. Exit\n",
      "1. Addition\n",
      "2. Subtraction\n",
      "3. Multiplication\n",
      "4. Division\n",
      "Enter your choice...0\n",
      "Exit\n",
      "\n"
     ]
    },
    {
     "ename": "TypeError",
     "evalue": "__init__() missing 2 required positional arguments: 'input1' and 'input2'",
     "output_type": "error",
     "traceback": [
      "\u001b[0;31m---------------------------------------------------------------------------\u001b[0m",
      "\u001b[0;31mTypeError\u001b[0m                                 Traceback (most recent call last)",
      "\u001b[0;32m/var/folders/jb/44g1hfw15g1bf2jty7jl541r0000gn/T/ipykernel_36515/3569098459.py\u001b[0m in \u001b[0;36m<module>\u001b[0;34m\u001b[0m\n\u001b[1;32m     39\u001b[0m \u001b[0mprint\u001b[0m\u001b[0;34m(\u001b[0m\u001b[0;34m)\u001b[0m\u001b[0;34m\u001b[0m\u001b[0;34m\u001b[0m\u001b[0m\n\u001b[1;32m     40\u001b[0m \u001b[0;34m\u001b[0m\u001b[0m\n\u001b[0;32m---> 41\u001b[0;31m \u001b[0mcalculator\u001b[0m\u001b[0;34m(\u001b[0m\u001b[0;34m)\u001b[0m\u001b[0;34m\u001b[0m\u001b[0;34m\u001b[0m\u001b[0m\n\u001b[0m",
      "\u001b[0;31mTypeError\u001b[0m: __init__() missing 2 required positional arguments: 'input1' and 'input2'"
     ]
    }
   ],
   "source": [
    "class calculator():\n",
    "    def __init__(self, input1, input2):\n",
    "        self.input1=input1\n",
    "        self.input2=input2\n",
    "    def addition(self):\n",
    "        return self.input1 + self.input2\n",
    "    def subtraction(self):\n",
    "        return self.input1-self.input2\n",
    "    def multiplication(self):\n",
    "        return self.input1*self.input2\n",
    "    def division(self):\n",
    "        return self.input1/self.input2\n",
    "input_1=int(input(\"Enter first number: \"))\n",
    "input_2=int(input(\"Enter second number: \"))\n",
    "my_calc=calculator(input_1,input_2)\n",
    "\n",
    "choice=1\n",
    "while choice!=0:\n",
    "    print()\n",
    "    print(\"0. Exit\")\n",
    "    print(\"1. Addition\")\n",
    "    print(\"2. Subtraction\")\n",
    "    print(\"3. Multiplication\")\n",
    "    print(\"4. Division\")\n",
    "    choice=int(input(\"Enter your choice...\"))\n",
    "    \n",
    "    if choice==1:\n",
    "        print(f\"The result is {my_calc.addition()}\")\n",
    "    elif choice==2:\n",
    "        print(f\"The result is {my_calc.subtraction()}\")\n",
    "    elif choice==3:\n",
    "        print(f\"The result is {my_calc.multiplication()}\")\n",
    "    elif choice==4:\n",
    "        print(f\"The result is {my_calc.division()}\")\n",
    "    elif choice==0:\n",
    "        print(\"Exit\")\n",
    "    else:\n",
    "        print(\"Sorry, invalid choice\")\n",
    "print()  \n",
    "        \n",
    "calculator()"
   ]
  },
  {
   "cell_type": "code",
   "execution_count": null,
   "id": "a7a954a0",
   "metadata": {},
   "outputs": [],
   "source": []
  },
  {
   "cell_type": "markdown",
   "id": "570106bc",
   "metadata": {},
   "source": [
    "### Parent Class- Polygon\n",
    "* Create a method called calc_perimeter"
   ]
  },
  {
   "cell_type": "code",
   "execution_count": 3,
   "id": "1edd96f9",
   "metadata": {},
   "outputs": [],
   "source": [
    "class Polygon:\n",
    "    def __init__(self,side_length):\n",
    "        self.side_length=side_length\n",
    "        \n",
    "    def perimeter(self):\n",
    "        return sum(self.side_length)"
   ]
  },
  {
   "cell_type": "code",
   "execution_count": 5,
   "id": "7d15362b",
   "metadata": {},
   "outputs": [
    {
     "name": "stdout",
     "output_type": "stream",
     "text": [
      "23\n"
     ]
    }
   ],
   "source": [
    "some_shape=Polygon([1,3,5,6,8])\n",
    "print(some_shape.perimeter())"
   ]
  },
  {
   "cell_type": "code",
   "execution_count": 8,
   "id": "fe58ef6b",
   "metadata": {},
   "outputs": [
    {
     "data": {
      "text/plain": [
       "222"
      ]
     },
     "execution_count": 8,
     "metadata": {},
     "output_type": "execute_result"
    }
   ],
   "source": [
    "another_shape=Polygon([2,56,45,32,44,43])\n",
    "another_shape.perimeter()"
   ]
  },
  {
   "cell_type": "markdown",
   "id": "3d1f1302",
   "metadata": {},
   "source": [
    "### Create a child class called Triangle and calculate the perimeter and the area"
   ]
  },
  {
   "cell_type": "markdown",
   "id": "c5c35bff",
   "metadata": {},
   "source": [
    "### Create a child class called Rectangle and calculate the perimeter and the area"
   ]
  },
  {
   "cell_type": "markdown",
   "id": "5d7f652e",
   "metadata": {},
   "source": [
    "### Create a child class called Square and calculate the perimeter and the area"
   ]
  },
  {
   "cell_type": "code",
   "execution_count": 11,
   "id": "ffe09f50",
   "metadata": {},
   "outputs": [],
   "source": [
    "class Triangle(Polygon):\n",
    "    def __init__(self,side_length):\n",
    "        super().__init__(side_length)\n",
    "    def area(self):\n",
    "        a,b,c=self.side_length #unpacking the input variables\n",
    "        semi=(a+b+c)/2\n",
    "        return (semi*(semi-a)*(semi-b)*(semi-c))**.5\n",
    "    "
   ]
  },
  {
   "cell_type": "code",
   "execution_count": 13,
   "id": "f209db1c",
   "metadata": {},
   "outputs": [
    {
     "name": "stdout",
     "output_type": "stream",
     "text": [
      "The perimeter is 12\n",
      "The area is 6.0\n"
     ]
    }
   ],
   "source": [
    "a_triangle=Triangle([3,4,5])\n",
    "print(f\"The perimeter is {a_triangle.perimeter()}\")\n",
    "print(f\"The area is {a_triangle.area()}\")"
   ]
  },
  {
   "cell_type": "code",
   "execution_count": 21,
   "id": "15d5d469",
   "metadata": {},
   "outputs": [],
   "source": [
    "class Square(Polygon):\n",
    "    def __init__(self,side_length):\n",
    "        super().__init__(side_length)\n",
    "        \n",
    "    def area(self):\n",
    "        a,b,c,d=self.side_length\n",
    "        return a**2\n",
    "    "
   ]
  },
  {
   "cell_type": "code",
   "execution_count": 22,
   "id": "2d244e0f",
   "metadata": {},
   "outputs": [
    {
     "name": "stdout",
     "output_type": "stream",
     "text": [
      "The area is 64\n",
      "The perimeter is 32\n"
     ]
    }
   ],
   "source": [
    "a_square=Square([8,8,8,8])\n",
    "print(f\"The area is {a_square.area()}\")\n",
    "print(f\"The perimeter is {a_square.perimeter()}\")"
   ]
  },
  {
   "cell_type": "code",
   "execution_count": 28,
   "id": "d0c58297",
   "metadata": {},
   "outputs": [],
   "source": [
    "class Rectangle(Polygon):\n",
    "    def __init__(self,side_length):\n",
    "        super().__init__(side_length)\n",
    "    \n",
    "    def area(self):\n",
    "        a,b,c,d=self.side_length\n",
    "        if a!=b:\n",
    "            result= a*b\n",
    "        elif a!=c:\n",
    "            result=a*c\n",
    "        else:\n",
    "            result=a*d\n",
    "        return result\n",
    "    "
   ]
  },
  {
   "cell_type": "code",
   "execution_count": 30,
   "id": "ad8d60e8",
   "metadata": {},
   "outputs": [
    {
     "name": "stdout",
     "output_type": "stream",
     "text": [
      "The perimeter is 22\n",
      "The area is 30\n"
     ]
    }
   ],
   "source": [
    "a_rectangle=Rectangle([5,5,6,6])\n",
    "print(f\"The perimeter is {a_rectangle.perimeter()}\")\n",
    "print(f\"The area is {a_rectangle.area()}\")"
   ]
  },
  {
   "cell_type": "code",
   "execution_count": null,
   "id": "b8476add",
   "metadata": {},
   "outputs": [],
   "source": []
  },
  {
   "cell_type": "markdown",
   "id": "ddb3690b",
   "metadata": {},
   "source": [
    "### Create a parent class rectangle and two methods called area and perimeter"
   ]
  },
  {
   "cell_type": "markdown",
   "id": "ac69731f",
   "metadata": {},
   "source": [
    "### Create a child class called square and test for two cases. Do method overloading for area and perimeter"
   ]
  },
  {
   "cell_type": "code",
   "execution_count": 52,
   "id": "80c7b5a0",
   "metadata": {},
   "outputs": [],
   "source": [
    "class Rectangle():\n",
    "    def __init__(self,length,width):\n",
    "        self.length=length\n",
    "        self.width=width\n",
    "        \n",
    "    def area(self):\n",
    "        return self.length*self.width\n",
    "    \n",
    "    def perimeter(self):\n",
    "        return 2*(self.length + self.width)\n",
    "    "
   ]
  },
  {
   "cell_type": "code",
   "execution_count": 53,
   "id": "999aceae",
   "metadata": {},
   "outputs": [],
   "source": [
    "class Square(Rectangle):\n",
    "    def __init__(self,length):\n",
    "        super().__init__(length,length)"
   ]
  },
  {
   "cell_type": "code",
   "execution_count": 56,
   "id": "b476b788",
   "metadata": {},
   "outputs": [
    {
     "name": "stdout",
     "output_type": "stream",
     "text": [
      "25\n",
      "20\n"
     ]
    }
   ],
   "source": [
    "square_1=Square(5)\n",
    "print(square_1.area())\n",
    "print(square_1.perimeter())"
   ]
  },
  {
   "cell_type": "code",
   "execution_count": null,
   "id": "fe3ace94",
   "metadata": {},
   "outputs": [],
   "source": []
  },
  {
   "cell_type": "code",
   "execution_count": null,
   "id": "b1cfb25b",
   "metadata": {},
   "outputs": [],
   "source": []
  },
  {
   "cell_type": "code",
   "execution_count": null,
   "id": "b0602a24",
   "metadata": {},
   "outputs": [],
   "source": []
  },
  {
   "cell_type": "code",
   "execution_count": null,
   "id": "3efe7818",
   "metadata": {},
   "outputs": [],
   "source": []
  },
  {
   "cell_type": "markdown",
   "id": "0ec161b5",
   "metadata": {},
   "source": [
    "## ATM machine "
   ]
  },
  {
   "cell_type": "code",
   "execution_count": null,
   "id": "267c3e25",
   "metadata": {},
   "outputs": [],
   "source": []
  },
  {
   "cell_type": "code",
   "execution_count": null,
   "id": "a6e40459",
   "metadata": {},
   "outputs": [],
   "source": []
  },
  {
   "cell_type": "code",
   "execution_count": null,
   "id": "5349965d",
   "metadata": {},
   "outputs": [],
   "source": []
  }
 ],
 "metadata": {
  "kernelspec": {
   "display_name": "Python 3 (ipykernel)",
   "language": "python",
   "name": "python3"
  },
  "language_info": {
   "codemirror_mode": {
    "name": "ipython",
    "version": 3
   },
   "file_extension": ".py",
   "mimetype": "text/x-python",
   "name": "python",
   "nbconvert_exporter": "python",
   "pygments_lexer": "ipython3",
   "version": "3.9.13"
  }
 },
 "nbformat": 4,
 "nbformat_minor": 5
}
