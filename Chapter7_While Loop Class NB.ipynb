{
 "cells": [
  {
   "cell_type": "markdown",
   "metadata": {},
   "source": [
    "# While Loop\n",
    "* The for loop takes a collection of items and executes a block of code once for each item in the collection. \n",
    "* In contrast, the while loop runs as long as, or while, a certain condition is true."
   ]
  },
  {
   "cell_type": "markdown",
   "metadata": {},
   "source": [
    "## The while Loop in Action\n",
    "You can use a while loop to count up through a series of numbers. For\n",
    "example, the following while loop counts from 1 to 5:\n"
   ]
  },
  {
   "cell_type": "code",
   "execution_count": 1,
   "metadata": {},
   "outputs": [
    {
     "name": "stdout",
     "output_type": "stream",
     "text": [
      "1\n",
      "2\n",
      "3\n",
      "4\n",
      "5\n"
     ]
    }
   ],
   "source": [
    "for i in range (1,6):\n",
    "    print(i)"
   ]
  },
  {
   "cell_type": "code",
   "execution_count": 2,
   "metadata": {},
   "outputs": [
    {
     "name": "stdout",
     "output_type": "stream",
     "text": [
      "1\n",
      "2\n",
      "3\n",
      "4\n",
      "5\n"
     ]
    }
   ],
   "source": [
    "i=1\n",
    "while i<=5:\n",
    "    print(i)\n",
    "    i+=1 # means i = i + 1\n",
    "    "
   ]
  },
  {
   "cell_type": "markdown",
   "metadata": {},
   "source": [
    "## Letting the User Choose When to Quit"
   ]
  },
  {
   "cell_type": "code",
   "execution_count": 3,
   "metadata": {},
   "outputs": [],
   "source": [
    "prompt=\"\\nTell me something, I will repeat it back to you. Enter \\'quit\\' to end the program\"\n",
    "\n"
   ]
  },
  {
   "cell_type": "code",
   "execution_count": 4,
   "metadata": {},
   "outputs": [
    {
     "name": "stdout",
     "output_type": "stream",
     "text": [
      "\n",
      "Tell me something, I will repeat it back to you. Enter 'quit' to end the programquit\n",
      "quit\n"
     ]
    }
   ],
   "source": [
    "message=\" \"\n",
    "while message!='quit':\n",
    "    message=input(prompt)\n",
    "    print(message)"
   ]
  },
  {
   "cell_type": "markdown",
   "metadata": {},
   "source": [
    "## A Flag"
   ]
  },
  {
   "cell_type": "code",
   "execution_count": 5,
   "metadata": {},
   "outputs": [],
   "source": [
    "prompt=\"\\nTell me something, I will repeat it back to you. Enter \\'quit\\' to end the program\"\n"
   ]
  },
  {
   "cell_type": "code",
   "execution_count": 6,
   "metadata": {},
   "outputs": [
    {
     "name": "stdout",
     "output_type": "stream",
     "text": [
      "\n",
      "Tell me something, I will repeat it back to you. Enter 'quit' to end the programquit\n"
     ]
    }
   ],
   "source": [
    "#Flag. Can either be true or false\n",
    "message=\" \"\n",
    "active=True\n",
    "while active:\n",
    "    message=input(prompt)\n",
    "    \n",
    "    if message=='quit':\n",
    "        active=False\n",
    "    else:\n",
    "        print(message)\n",
    "        "
   ]
  },
  {
   "cell_type": "markdown",
   "metadata": {
    "slideshow": {
     "slide_type": "subslide"
    }
   },
   "source": [
    "### For a program that should run only as long as many conditions are true, you can define one variable that determines whether or not the entire program is active. This variable, called a `flag`, acts as a signal to the program."
   ]
  },
  {
   "cell_type": "code",
   "execution_count": null,
   "metadata": {},
   "outputs": [],
   "source": []
  },
  {
   "cell_type": "code",
   "execution_count": null,
   "metadata": {},
   "outputs": [],
   "source": []
  },
  {
   "cell_type": "markdown",
   "metadata": {},
   "source": [
    "## Using break to Exit a Loop\n",
    "To exit a while loop immediately without running any remaining code in the\n",
    "loop, regardless of the results of any conditional test, use the break statement."
   ]
  },
  {
   "cell_type": "code",
   "execution_count": 7,
   "metadata": {},
   "outputs": [],
   "source": [
    "prompt = \"\\nEnter names of cities you would like to visit. Enter \\'quit\\' to exit: \""
   ]
  },
  {
   "cell_type": "code",
   "execution_count": 8,
   "metadata": {},
   "outputs": [
    {
     "name": "stdout",
     "output_type": "stream",
     "text": [
      "\n",
      "Enter names of cities you would like to visit. Enter 'quit' to exit: quit\n"
     ]
    }
   ],
   "source": [
    "city=\" \"\n",
    "active=True\n",
    "while active:\n",
    "    city=input(prompt)\n",
    "    if city=='quit':\n",
    "            break\n",
    "    else:\n",
    "        print(\"I would love to visit \"+city.title()+\"!\")"
   ]
  },
  {
   "cell_type": "markdown",
   "metadata": {},
   "source": [
    "### Guess the number"
   ]
  },
  {
   "cell_type": "code",
   "execution_count": 9,
   "metadata": {},
   "outputs": [
    {
     "name": "stdout",
     "output_type": "stream",
     "text": [
      "\n",
      "Guess a number in between 1 to 10: 6\n",
      "You have guessed correctly\n"
     ]
    }
   ],
   "source": [
    "prompt=\"\\nGuess a number in between 1 to 10: \"\n",
    "number=0\n",
    "active=True\n",
    "while active:\n",
    "    number=int(input(prompt))\n",
    "    if number==6:\n",
    "        print(\"You have guessed correctly\")\n",
    "        break\n",
    "    else:\n",
    "        print(\"Not the correct number, guess again\")"
   ]
  },
  {
   "cell_type": "code",
   "execution_count": null,
   "metadata": {},
   "outputs": [],
   "source": []
  },
  {
   "cell_type": "markdown",
   "metadata": {},
   "source": [
    "### Guess the number with proper direction"
   ]
  },
  {
   "cell_type": "code",
   "execution_count": 11,
   "metadata": {},
   "outputs": [
    {
     "name": "stdout",
     "output_type": "stream",
     "text": [
      "\n",
      "Guess a number in between 1 to 20: 87\n",
      "This number is not in the range. Learn how to read instructions. Enter a number in the range or Eric Cartman will haunt you.\n",
      "\n",
      "Guess a number in between 1 to 20: 5\n",
      "Your guess is too low. Guess again.\n",
      "\n",
      "Guess a number in between 1 to 20: 6\n",
      "You guessed correctly\n"
     ]
    }
   ],
   "source": [
    "prompt=\"\\nGuess a number in between 1 to 20: \"\n",
    "number2=0\n",
    "active=True\n",
    "while active:\n",
    "    number2=int(input(prompt))\n",
    "    if number2==6:\n",
    "        print(\"You guessed correctly\")\n",
    "        break\n",
    "    elif number2<6:\n",
    "        print(\"Your guess is too low. Guess again.\")\n",
    "    elif number2<1 or number2>20:\n",
    "        print(\"This number is not in the range. Learn how to read instructions. Enter a number in the range or Eric Cartman will haunt you.\")\n",
    "    else:\n",
    "        print(\"Your number is too high. Guess again.\")"
   ]
  },
  {
   "cell_type": "code",
   "execution_count": null,
   "metadata": {},
   "outputs": [],
   "source": []
  },
  {
   "cell_type": "markdown",
   "metadata": {},
   "source": [
    "### Break with for loop"
   ]
  },
  {
   "cell_type": "code",
   "execution_count": 16,
   "metadata": {},
   "outputs": [
    {
     "name": "stdout",
     "output_type": "stream",
     "text": [
      "1 2 3 4 5 6 7 8 9 10 11 12 13 14 15 16 17 18 19 20 21 22 23 24 25 26 27 28 29 30 31 32 33 34 35 36 37 38 39 \n",
      "You reached the end\n"
     ]
    }
   ],
   "source": [
    "# Printing all of the number between 0 and 100. Loop will break at 40.\n",
    "for number in range(1,100):\n",
    "    if number==40:\n",
    "        break\n",
    "    print(number, end=\" \")\n",
    "print(\"\\nYou reached the end\")"
   ]
  },
  {
   "cell_type": "code",
   "execution_count": null,
   "metadata": {},
   "outputs": [],
   "source": []
  },
  {
   "cell_type": "markdown",
   "metadata": {},
   "source": [
    "### Using continue in a Loop\n",
    "- Rather than breaking out of a loop entirely without executing the rest of its code, \n",
    "- you can use the continue statement to return to the beginning of the loop based on the result of a conditional test. \n",
    "- For example, consider a loop that counts from 1 to 10 but prints only the odd numbers in that range:"
   ]
  },
  {
   "cell_type": "code",
   "execution_count": 26,
   "metadata": {},
   "outputs": [
    {
     "name": "stdout",
     "output_type": "stream",
     "text": [
      "1  3  5  7  9  11  "
     ]
    }
   ],
   "source": [
    "number=0\n",
    "while number<=10:\n",
    "    number+=1\n",
    "    if number%2==0:\n",
    "        continue\n",
    "    print(number, end=\"  \")\n",
    "    \n",
    "   "
   ]
  },
  {
   "cell_type": "code",
   "execution_count": null,
   "metadata": {},
   "outputs": [],
   "source": []
  },
  {
   "cell_type": "markdown",
   "metadata": {},
   "source": [
    "### consider a loop (while/for) that counts from 10 to 20 but prints only the even numbers in that range, use continue statement:"
   ]
  },
  {
   "cell_type": "code",
   "execution_count": 28,
   "metadata": {},
   "outputs": [
    {
     "name": "stdout",
     "output_type": "stream",
     "text": [
      "10\n",
      "12\n",
      "14\n",
      "16\n",
      "18\n",
      "20\n"
     ]
    }
   ],
   "source": [
    "for number in range(10,21):\n",
    "    if number%2!=0: # if the number is odd, then it will continue/not print the number\n",
    "        continue\n",
    "    else:\n",
    "        print(number)\n",
    "        \n",
    "    "
   ]
  },
  {
   "cell_type": "code",
   "execution_count": null,
   "metadata": {},
   "outputs": [],
   "source": []
  },
  {
   "cell_type": "markdown",
   "metadata": {},
   "source": [
    "### Avoiding Infinite Loops"
   ]
  },
  {
   "cell_type": "code",
   "execution_count": null,
   "metadata": {},
   "outputs": [],
   "source": []
  },
  {
   "cell_type": "code",
   "execution_count": null,
   "metadata": {},
   "outputs": [],
   "source": []
  },
  {
   "cell_type": "markdown",
   "metadata": {},
   "source": [
    "### Movie Tickets: A movie theater charges different ticket prices depending on a person’s age. \n",
    "- If a person is under the age of 3, the ticket is free; if they are between 3 and 12, the ticket is 10 dollar\n",
    "- if they are over age 12, the ticket is 15 dollar. \n",
    "Write a while loop in which you ask users their age, and then tell them the cost of their movie ticket."
   ]
  },
  {
   "cell_type": "code",
   "execution_count": 4,
   "metadata": {},
   "outputs": [
    {
     "name": "stdout",
     "output_type": "stream",
     "text": [
      "What is your age? Enter -1 to quit: 56\n",
      "The ticket price is 15 dollars.\n",
      "What is your age? Enter -1 to quit: 0\n",
      "The entry is free for you.\n",
      "What is your age? Enter -1 to quit: -1\n"
     ]
    }
   ],
   "source": [
    "prompt=\"What is your age? Enter -1 to quit: \"\n",
    "while True:\n",
    "    age=int(input(prompt))\n",
    "    if age==-1:\n",
    "        break\n",
    "    elif age<3:\n",
    "        print(\"The entry is free for you.\")\n",
    "    elif age<13:\n",
    "        print(\"The ticket price is 10 dollars.\")\n",
    "    else:\n",
    "        print(\"The ticket price is 15 dollars.\")"
   ]
  },
  {
   "cell_type": "code",
   "execution_count": null,
   "metadata": {},
   "outputs": [],
   "source": []
  },
  {
   "cell_type": "markdown",
   "metadata": {},
   "source": [
    "## Using a while Loop with Lists and Dictionaries"
   ]
  },
  {
   "cell_type": "markdown",
   "metadata": {},
   "source": [
    "### Moving Items from One List to Another"
   ]
  },
  {
   "cell_type": "code",
   "execution_count": 12,
   "metadata": {},
   "outputs": [
    {
     "name": "stdout",
     "output_type": "stream",
     "text": [
      "Verifying user: Cadance\n",
      "Verifying user: Brian\n",
      "Verifying user: Alice\n",
      "The confirmed user list ['cadance', 'brian', 'alice']\n",
      "\n",
      "The following users are confirmed: \n",
      "Cadance\n",
      "Brian\n",
      "Alice\n"
     ]
    }
   ],
   "source": [
    "# moving names from unconfrimedUser to confirmedUser\n",
    "unconfirmedUser=['alice','brian','cadance']\n",
    "confirmedUser=[]\n",
    "\n",
    "# 1. verify each user until no more unconfirmed users\n",
    "# 2. move verified user into the new list called confirmedUSer\n",
    "\n",
    "while unconfirmedUser:\n",
    "    currentUser=unconfirmedUser.pop()\n",
    "    \n",
    "    print(\"Verifying user: \"+currentUser.title())\n",
    "    \n",
    "    confirmedUser.append(currentUser)\n",
    "print(\"The confirmed user list\",confirmedUser)\n",
    "print(\"\\nThe following users are confirmed: \")\n",
    "\n",
    "for name in confirmedUser:\n",
    "    print(name.title())\n",
    "\n"
   ]
  },
  {
   "cell_type": "code",
   "execution_count": null,
   "metadata": {},
   "outputs": [],
   "source": []
  },
  {
   "cell_type": "markdown",
   "metadata": {},
   "source": [
    "### Removing All Instances of Specific Values from a List"
   ]
  },
  {
   "cell_type": "code",
   "execution_count": 13,
   "metadata": {},
   "outputs": [
    {
     "name": "stdout",
     "output_type": "stream",
     "text": [
      "['dog', 'cat', 'dog', 'goldfish', 'cat', 'rabbit']\n"
     ]
    }
   ],
   "source": [
    "pets=['dog','cat','dog','goldfish','cat','rabbit']\n",
    "print(pets)"
   ]
  },
  {
   "cell_type": "code",
   "execution_count": 18,
   "metadata": {},
   "outputs": [
    {
     "name": "stdout",
     "output_type": "stream",
     "text": [
      "['dog', 'dog', 'goldfish', 'rabbit']\n"
     ]
    }
   ],
   "source": [
    "# remove all of the cats from the list\n",
    "while 'cat' in pets:\n",
    "    pets.remove('cat')\n",
    "    \n",
    "print(pets)"
   ]
  },
  {
   "cell_type": "markdown",
   "metadata": {},
   "source": [
    "### Filling a Dictionary with User Input"
   ]
  },
  {
   "cell_type": "code",
   "execution_count": 22,
   "metadata": {},
   "outputs": [
    {
     "name": "stdout",
     "output_type": "stream",
     "text": [
      "\n",
      "What is your name? Jameson\n",
      "Which country would you like to visit? Iceland\n",
      "Would you like to add another person's response? (yes/no)no\n",
      "\n",
      "---Poll Results---\n",
      "Jameson would like to visit Iceland\n"
     ]
    }
   ],
   "source": [
    "responseDict={}\n",
    "#flag\n",
    "pollingActive=True\n",
    "\n",
    "while pollingActive:\n",
    "    #prompt user for name (key) and response (value)\n",
    "    name=input(\"\\nWhat is your name? \")\n",
    "    response=input(\"Which country would you like to visit? \")\n",
    "    responseDict[name]=response # called the dictionary, passed the key through and assigned the response value\n",
    "    \n",
    "    repeat=input(\"Would you like to add another person's response? (yes/no)\")\n",
    "    if repeat=='no':\n",
    "        pollingActive=False # breaks the loop\n",
    "   \n",
    " #poll completed. Show results\n",
    "print(\"\\n---Poll Results---\")\n",
    "\n",
    "for name, response in responseDict.items():\n",
    "    print(name.title() +\" would like to visit \"+response.title())"
   ]
  },
  {
   "cell_type": "code",
   "execution_count": null,
   "metadata": {},
   "outputs": [],
   "source": []
  },
  {
   "cell_type": "markdown",
   "metadata": {},
   "source": [
    "## Deli: Make a list called sandwich_orders and fill it with the names of various sandwiches. \n",
    "- Then make an empty list called finished_sandwiches. \n",
    "- Loop through the list of sandwich orders and print a message for each order, such as I made your tuna sandwich. \n",
    "- As each sandwich is made, move it to the list of finished sandwiches. \n",
    "- After all the sandwiches have been made, print a message listing each sandwich that was made."
   ]
  },
  {
   "cell_type": "code",
   "execution_count": 9,
   "metadata": {},
   "outputs": [
    {
     "name": "stdout",
     "output_type": "stream",
     "text": [
      "I am working on your Pizza sandwich!\n",
      "I am working on your Roast Beef sandwich!\n",
      "I am working on your Chicken sandwich!\n",
      "I am working on your Tuna sandwich!\n",
      "I am working on your Veggie sandwich!\n",
      "I made a Pizza sandwich\n",
      "I made a Roast Beef sandwich\n",
      "I made a Chicken sandwich\n",
      "I made a Tuna sandwich\n",
      "I made a Veggie sandwich\n"
     ]
    }
   ],
   "source": [
    "sandwichOrders=[\"Veggie\",\"Tuna\",\"Chicken\",\"Roast Beef\",\"Pizza\"]\n",
    "finishedSandwiches=[]\n",
    "while sandwichOrders:\n",
    "    currentSandwich=sandwichOrders.pop()\n",
    "    print(\"I am working on your \"+currentSandwich+ \" sandwich!\")\n",
    "    finishedSandwiches.append(currentSandwich)\n",
    "    \n",
    "#print(\"The final list is: \",finishedSandwiches)\n",
    "print(\"---List of Sandwiches---  \")\n",
    "for sandwich in finishedSandwiches:\n",
    "    print(\"I made a \"+sandwich+\" sandwich\")\n",
    "    \n"
   ]
  },
  {
   "cell_type": "code",
   "execution_count": null,
   "metadata": {},
   "outputs": [],
   "source": []
  },
  {
   "cell_type": "markdown",
   "metadata": {},
   "source": [
    "## Write a program to print n natural number in descending order using a while loop.\n"
   ]
  },
  {
   "cell_type": "code",
   "execution_count": 25,
   "metadata": {},
   "outputs": [
    {
     "name": "stdout",
     "output_type": "stream",
     "text": [
      "Enter a number: 10\n",
      "10 9 8 7 6 5 4 3 2 1 "
     ]
    }
   ],
   "source": [
    "n=int(input(\"Enter a number: \"))\n",
    "while (n!=0):\n",
    "    print(n, end=\" \")\n",
    "    n-=1 # n=n-1"
   ]
  },
  {
   "cell_type": "code",
   "execution_count": null,
   "metadata": {},
   "outputs": [],
   "source": []
  },
  {
   "cell_type": "markdown",
   "metadata": {},
   "source": [
    "## Factorial of a number"
   ]
  },
  {
   "cell_type": "code",
   "execution_count": 5,
   "metadata": {},
   "outputs": [
    {
     "name": "stdout",
     "output_type": "stream",
     "text": [
      "Enter a number: 3\n",
      "6\n"
     ]
    }
   ],
   "source": [
    "num=int(input(\"Enter a number: \"))\n",
    "factorial = 1\n",
    "while num > 1:\n",
    "    factorial = factorial * num\n",
    "    num = num - 1\n",
    "print(factorial)"
   ]
  },
  {
   "cell_type": "code",
   "execution_count": null,
   "metadata": {},
   "outputs": [],
   "source": []
  },
  {
   "cell_type": "markdown",
   "metadata": {},
   "source": [
    "## Take 10 integers from keyboard using loop and print their sum and average value on the screen"
   ]
  },
  {
   "cell_type": "code",
   "execution_count": 19,
   "metadata": {},
   "outputs": [
    {
     "name": "stdout",
     "output_type": "stream",
     "text": [
      "Enter a number: 1\n",
      "Enter a number: 2\n",
      "Enter a number: 3\n",
      "Enter a number: 4\n",
      "Enter a number: 5\n",
      "Enter a number: 6\n",
      "Enter a number: 7\n",
      "Enter a number: 8\n",
      "Enter a number: 8\n",
      "Enter a number: 9\n",
      "The sum is 53\n",
      "The average is 5.3\n"
     ]
    }
   ],
   "source": [
    "sum=0 #initializing the sum variable as zero\n",
    "n=10\n",
    "while n>0:\n",
    "    num=int(input(\"Enter a number: \"))\n",
    "    sum+=num\n",
    "    n-=1\n",
    "print(\"The sum is\", sum)\n",
    "print(\"The average is\", sum/10)\n",
    "\n"
   ]
  },
  {
   "cell_type": "code",
   "execution_count": 20,
   "metadata": {},
   "outputs": [
    {
     "name": "stdout",
     "output_type": "stream",
     "text": [
      "Enter a number: 1\n",
      "Enter a number: 2\n",
      "Enter a number: 3\n",
      "Enter a number: 4\n",
      "Enter a number: 5\n",
      "Enter a number: 6\n",
      "Enter a number: 7\n",
      "Enter a number: 8\n",
      "Enter a number: 97\n",
      "Enter a number: 45\n",
      "The product is 175996800\n"
     ]
    }
   ],
   "source": [
    "product=1 #initializing the product variable as one\n",
    "n=10\n",
    "while n>0:\n",
    "    num=int(input(\"Enter a number: \"))\n",
    "    prod*=num\n",
    "    n-=1\n",
    "print(\"The product is\", prod)\n"
   ]
  },
  {
   "cell_type": "markdown",
   "metadata": {},
   "source": []
  },
  {
   "attachments": {
    "image.png": {
     "image/png": "[encoded data removed]"
    }
   },
   "cell_type": "markdown",
   "metadata": {},
   "source": [
    "## Print the following patterns using loop :\n",
    "![image.png](attachment:image.png)"
   ]
  },
  {
   "cell_type": "code",
   "execution_count": 23,
   "metadata": {},
   "outputs": [
    {
     "name": "stdout",
     "output_type": "stream",
     "text": [
      " * \n",
      " *  * \n",
      " *  *  * \n",
      " *  *  *  * \n",
      " *  *  *  *  * \n",
      " *  *  *  *  *  * \n",
      " *  *  *  *  *  *  * \n",
      " *  *  *  *  *  *  *  * \n",
      " *  *  *  *  *  *  *  *  * \n",
      " *  *  *  *  *  *  *  *  *  * \n",
      " *  *  *  *  *  *  *  *  *  *  * \n",
      " *  *  *  *  *  *  *  *  *  *  *  * \n",
      " *  *  *  *  *  *  *  *  *  *  *  *  * \n",
      " *  *  *  *  *  *  *  *  *  *  *  *  *  * \n",
      " *  *  *  *  *  *  *  *  *  *  *  *  *  *  * \n",
      " *  *  *  *  *  *  *  *  *  *  *  *  *  *  *  * \n",
      " *  *  *  *  *  *  *  *  *  *  *  *  *  *  *  *  * \n",
      " *  *  *  *  *  *  *  *  *  *  *  *  *  *  *  *  *  * \n",
      " *  *  *  *  *  *  *  *  *  *  *  *  *  *  *  *  *  *  * \n",
      " *  *  *  *  *  *  *  *  *  *  *  *  *  *  *  *  *  *  *  * \n"
     ]
    }
   ],
   "source": [
    "i=1\n",
    "while i<=20:\n",
    "    print(i*\" * \")\n",
    "    i+=1\n",
    "    "
   ]
  },
  {
   "cell_type": "code",
   "execution_count": null,
   "metadata": {},
   "outputs": [],
   "source": []
  },
  {
   "cell_type": "markdown",
   "metadata": {},
   "source": [
    "## Write a program to display the first 7 multiples of 7.\n"
   ]
  },
  {
   "cell_type": "code",
   "execution_count": 29,
   "metadata": {},
   "outputs": [
    {
     "name": "stdout",
     "output_type": "stream",
     "text": [
      "7 14 21 28 35 42 49 "
     ]
    }
   ],
   "source": [
    "count=0\n",
    "for i in range(7,1000):\n",
    "    if i%7==0:\n",
    "        print(i, end=\" \")\n",
    "        count+=1\n",
    "        if count==7:\n",
    "            break\n",
    "        "
   ]
  },
  {
   "cell_type": "code",
   "execution_count": null,
   "metadata": {},
   "outputs": [],
   "source": []
  },
  {
   "cell_type": "markdown",
   "metadata": {},
   "source": [
    "## Write a program that appends the square of each number to a new list."
   ]
  },
  {
   "cell_type": "code",
   "execution_count": 31,
   "metadata": {},
   "outputs": [
    {
     "name": "stdout",
     "output_type": "stream",
     "text": [
      "The new list is [1, 4, 9, 16, 25]\n"
     ]
    }
   ],
   "source": [
    "x=[1,2,3,4,5]\n",
    "z=[]\n",
    "\n",
    "for i in range(len(x)):\n",
    "    z.append(x[i]**2)\n",
    "\n",
    "print(\"The new list is\", z)"
   ]
  },
  {
   "cell_type": "code",
   "execution_count": null,
   "metadata": {},
   "outputs": [],
   "source": []
  },
  {
   "cell_type": "markdown",
   "metadata": {},
   "source": [
    "## Separate positive and negative number from a list.\n",
    "x = [23,12,-4,23,-9,21,3,-45,-8]"
   ]
  },
  {
   "cell_type": "code",
   "execution_count": 34,
   "metadata": {},
   "outputs": [
    {
     "name": "stdout",
     "output_type": "stream",
     "text": [
      "[23, 12, 23, 21, 3]\n",
      "[-4, -9, -45, -8]\n"
     ]
    }
   ],
   "source": [
    "x = [23,12,-4,23,-9,21,3,-45,-8]\n",
    "pos=[]\n",
    "neg=[]\n",
    "\n",
    "for i in range(len(x)):\n",
    "    if x[i]>=0:\n",
    "        pos.append(x[i])\n",
    "    else:\n",
    "        neg.append(x[i])\n",
    "print(pos)\n",
    "print(neg)"
   ]
  },
  {
   "cell_type": "code",
   "execution_count": null,
   "metadata": {},
   "outputs": [],
   "source": []
  }
 ],
 "metadata": {
  "celltoolbar": "Slideshow",
  "kernelspec": {
   "display_name": "Python 3 (ipykernel)",
   "language": "python",
   "name": "python3"
  },
  "language_info": {
   "codemirror_mode": {
    "name": "ipython",
    "version": 3
   },
   "file_extension": ".py",
   "mimetype": "text/x-python",
   "name": "python",
   "nbconvert_exporter": "python",
   "pygments_lexer": "ipython3",
   "version": "3.9.13"
  }
 },
 "nbformat": 4,
 "nbformat_minor": 2
}
